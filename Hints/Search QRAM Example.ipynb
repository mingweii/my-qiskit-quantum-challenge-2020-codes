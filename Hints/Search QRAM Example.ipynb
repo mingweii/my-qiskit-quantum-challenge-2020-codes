{
 "cells": [
  {
   "cell_type": "code",
   "execution_count": 1,
   "metadata": {},
   "outputs": [
    {
     "ename": "ModuleNotFoundError",
     "evalue": "No module named 'qiskit'",
     "output_type": "error",
     "traceback": [
      "\u001b[0;31m---------------------------------------------------------------------------\u001b[0m",
      "\u001b[0;31mModuleNotFoundError\u001b[0m                       Traceback (most recent call last)",
      "\u001b[0;32m<ipython-input-1-483ed2ad9d80>\u001b[0m in \u001b[0;36m<module>\u001b[0;34m\u001b[0m\n\u001b[1;32m      1\u001b[0m \u001b[0mget_ipython\u001b[0m\u001b[0;34m(\u001b[0m\u001b[0;34m)\u001b[0m\u001b[0;34m.\u001b[0m\u001b[0mrun_line_magic\u001b[0m\u001b[0;34m(\u001b[0m\u001b[0;34m'matplotlib'\u001b[0m\u001b[0;34m,\u001b[0m \u001b[0;34m'inline'\u001b[0m\u001b[0;34m)\u001b[0m\u001b[0;34m\u001b[0m\u001b[0;34m\u001b[0m\u001b[0m\n\u001b[1;32m      2\u001b[0m \u001b[0;31m# Importing standard Qiskit libraries and configuring account\u001b[0m\u001b[0;34m\u001b[0m\u001b[0;34m\u001b[0m\u001b[0;34m\u001b[0m\u001b[0m\n\u001b[0;32m----> 3\u001b[0;31m \u001b[0;32mfrom\u001b[0m \u001b[0mqiskit\u001b[0m \u001b[0;32mimport\u001b[0m \u001b[0;34m*\u001b[0m\u001b[0;34m\u001b[0m\u001b[0;34m\u001b[0m\u001b[0m\n\u001b[0m\u001b[1;32m      4\u001b[0m \u001b[0;32mfrom\u001b[0m \u001b[0mqiskit\u001b[0m \u001b[0;32mimport\u001b[0m \u001b[0mQuantumRegister\u001b[0m\u001b[0;34m,\u001b[0m \u001b[0mClassicalRegister\u001b[0m\u001b[0;34m,\u001b[0m \u001b[0mQuantumCircuit\u001b[0m\u001b[0;34m\u001b[0m\u001b[0;34m\u001b[0m\u001b[0m\n\u001b[1;32m      5\u001b[0m \u001b[0;32mfrom\u001b[0m \u001b[0mqiskit\u001b[0m \u001b[0;32mimport\u001b[0m \u001b[0mIBMQ\u001b[0m\u001b[0;34m,\u001b[0m \u001b[0mAer\u001b[0m\u001b[0;34m,\u001b[0m \u001b[0mexecute\u001b[0m\u001b[0;34m\u001b[0m\u001b[0;34m\u001b[0m\u001b[0m\n",
      "\u001b[0;31mModuleNotFoundError\u001b[0m: No module named 'qiskit'"
     ]
    }
   ],
   "source": [
    "%matplotlib inline\n",
    "# Importing standard Qiskit libraries and configuring account\n",
    "from qiskit import *\n",
    "from qiskit import QuantumRegister, ClassicalRegister, QuantumCircuit\n",
    "from qiskit import IBMQ, Aer, execute\n",
    "# Loading your IBM Q account(s)"
   ]
  },
  {
   "cell_type": "markdown",
   "metadata": {},
   "source": [
    "## Example: Find the data from qRAM\n",
    "Prepare a qRAM of $n$-addresses in which the numbers $k_0, k_1, .. , k_{n-1}$ are stored in this order.  \n",
    "Find the address in which the number $m$ is stored using Grover's algorithm.  \n",
    "- $n = 4$\n",
    "- $k = [1,2,5,7]$\n",
    "- $m = 5$\n",
    "\n",
    "### qRAM operation.\n",
    "Here we show a circuit example of qRAM."
   ]
  },
  {
   "cell_type": "code",
   "execution_count": 2,
   "metadata": {},
   "outputs": [
    {
     "ename": "NameError",
     "evalue": "name 'QuantumRegister' is not defined",
     "output_type": "error",
     "traceback": [
      "\u001b[0;31m---------------------------------------------------------------------------\u001b[0m",
      "\u001b[0;31mNameError\u001b[0m                                 Traceback (most recent call last)",
      "\u001b[0;32m<ipython-input-2-f08ce1fe4149>\u001b[0m in \u001b[0;36m<module>\u001b[0;34m\u001b[0m\n\u001b[0;32m----> 1\u001b[0;31m \u001b[0maddress\u001b[0m \u001b[0;34m=\u001b[0m \u001b[0mQuantumRegister\u001b[0m\u001b[0;34m(\u001b[0m\u001b[0;36m2\u001b[0m\u001b[0;34m)\u001b[0m\u001b[0;34m\u001b[0m\u001b[0;34m\u001b[0m\u001b[0m\n\u001b[0m\u001b[1;32m      2\u001b[0m \u001b[0mdata\u001b[0m \u001b[0;34m=\u001b[0m \u001b[0mQuantumRegister\u001b[0m\u001b[0;34m(\u001b[0m\u001b[0;36m3\u001b[0m\u001b[0;34m)\u001b[0m\u001b[0;34m\u001b[0m\u001b[0;34m\u001b[0m\u001b[0m\n\u001b[1;32m      3\u001b[0m \u001b[0moracle\u001b[0m \u001b[0;34m=\u001b[0m \u001b[0mQuantumRegister\u001b[0m\u001b[0;34m(\u001b[0m\u001b[0;36m1\u001b[0m\u001b[0;34m)\u001b[0m\u001b[0;34m\u001b[0m\u001b[0;34m\u001b[0m\u001b[0m\n\u001b[1;32m      4\u001b[0m \u001b[0mc\u001b[0m \u001b[0;34m=\u001b[0m \u001b[0mClassicalRegister\u001b[0m\u001b[0;34m(\u001b[0m\u001b[0;36m2\u001b[0m\u001b[0;34m)\u001b[0m\u001b[0;34m\u001b[0m\u001b[0;34m\u001b[0m\u001b[0m\n\u001b[1;32m      5\u001b[0m \u001b[0mqc\u001b[0m \u001b[0;34m=\u001b[0m \u001b[0mQuantumCircuit\u001b[0m\u001b[0;34m(\u001b[0m\u001b[0maddress\u001b[0m\u001b[0;34m,\u001b[0m\u001b[0mdata\u001b[0m\u001b[0;34m,\u001b[0m\u001b[0moracle\u001b[0m\u001b[0;34m,\u001b[0m\u001b[0mc\u001b[0m\u001b[0;34m)\u001b[0m\u001b[0;34m\u001b[0m\u001b[0;34m\u001b[0m\u001b[0m\n",
      "\u001b[0;31mNameError\u001b[0m: name 'QuantumRegister' is not defined"
     ]
    }
   ],
   "source": [
    "address = QuantumRegister(2)\n",
    "data = QuantumRegister(3)\n",
    "oracle = QuantumRegister(1)\n",
    "c = ClassicalRegister(2)\n",
    "qc = QuantumCircuit(address,data,oracle,c)\n",
    "\n",
    "# address preparation\n",
    "qc.h([address[0],address[1]])\n",
    "qc.x(oracle[0])\n",
    "qc.h(oracle[0])\n",
    "qc.barrier()\n",
    "\n",
    "##Qram part\n",
    "\n",
    "# address 0 -> data = 1 (001)\n",
    "qc.x([address[0],address[1]])\n",
    "qc.ccx(address[0],address[1],data[2]) \n",
    "qc.x([address[0],address[1]])\n",
    "qc.barrier()\n",
    "\n",
    "# address 1 -> data = 2 (010)\n",
    "qc.x(address[0])\n",
    "qc.ccx(address[0],address[1],data[1])\n",
    "qc.x(address[0])\n",
    "qc.barrier()\n",
    "\n",
    "# address 2 -> data = 5 (101)\n",
    "qc.x(address[1])\n",
    "qc.ccx(address[0],address[1],data[2])\n",
    "qc.ccx(address[0],address[1],data[0])\n",
    "qc.x(address[1])\n",
    "qc.barrier()\n",
    "# address 3 -> data = 7 (111)\n",
    "qc.ccx(address[0],address[1],data[2])\n",
    "qc.ccx(address[0],address[1],data[1])\n",
    "qc.ccx(address[0],address[1],data[0])\n",
    "qc.barrier()\n",
    "\n",
    "#flip phase of m = 5 (101)\n",
    "qc.x(data[1])\n",
    "qc.mct([data[0], data[1], data[2]], oracle[0], mode='noancilla')\n",
    "qc.barrier()\n",
    "\n",
    "## Reverse Qram part\n",
    "\n",
    "# address 3 -> data = 7 (111)\n",
    "qc.ccx(address[0],address[1],data[2])\n",
    "qc.ccx(address[0],address[1],data[1])\n",
    "qc.ccx(address[0],address[1],data[0])\n",
    "qc.barrier()\n",
    "\n",
    "# address 2 -> data = 5 (101)\n",
    "qc.x(address[1])\n",
    "qc.ccx(address[0],address[1],data[2])\n",
    "qc.ccx(address[0],address[1],data[0])\n",
    "qc.x(address[1])\n",
    "qc.barrier()\n",
    "\n",
    "# address 1 -> data = 2 (010)\n",
    "qc.x(address[0])\n",
    "qc.ccx(address[0],address[1],data[1])\n",
    "qc.x(address[0])\n",
    "qc.barrier()\n",
    "\n",
    "# address 0 -> data = 1 (001)\n",
    "qc.x([address[0],address[1]])\n",
    "qc.ccx(address[0],address[1],data[2])\n",
    "qc.x([address[0],address[1]])\n",
    "qc.barrier()\n",
    "\n",
    "\n",
    "#diffusion\n",
    "qc.h(address[:2])\n",
    "qc.x(address[:2])\n",
    "qc.h(address[1])\n",
    "qc.cx(address[0], address[1])\n",
    "qc.h(address[1])\n",
    "qc.x(address[:2])\n",
    "qc.h(address[:2])\n",
    "\n",
    "#Measure the address\n",
    "qc.measure(address[0:2], c[0:2])\n",
    "\n",
    "# Reverse the output string.\n",
    "qc = qc.reverse_bits()\n",
    "\n",
    "#backend = provider.get_backend('ibmq_qasm_simulator')\n",
    "backend = Aer.get_backend('qasm_simulator')\n",
    "job = execute(qc, backend=backend, shots=80000, seed_simulator=12345, backend_options={\"fusion_enable\":True})\n",
    "result = job.result()\n",
    "count =result.get_counts()\n",
    "print(count)\n",
    "\n",
    "qc.draw(output='mpl')"
   ]
  },
  {
   "cell_type": "code",
   "execution_count": null,
   "metadata": {},
   "outputs": [],
   "source": []
  }
 ],
 "metadata": {
  "kernelspec": {
   "display_name": "Python 3",
   "language": "python",
   "name": "python3"
  },
  "language_info": {
   "codemirror_mode": {
    "name": "ipython",
    "version": 3
   },
   "file_extension": ".py",
   "mimetype": "text/x-python",
   "name": "python",
   "nbconvert_exporter": "python",
   "pygments_lexer": "ipython3",
   "version": "3.8.5"
  }
 },
 "nbformat": 4,
 "nbformat_minor": 4
}
